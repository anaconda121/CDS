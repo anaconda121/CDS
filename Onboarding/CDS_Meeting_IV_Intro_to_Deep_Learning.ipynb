{
  "cells": [
    {
      "cell_type": "markdown",
      "metadata": {
        "id": "view-in-github",
        "colab_type": "text"
      },
      "source": [
        "<a href=\"https://colab.research.google.com/github/anaconda121/CDS/blob/main/Onboarding/CDS_Meeting_IV_Intro_to_Deep_Learning.ipynb\" target=\"_parent\"><img src=\"https://colab.research.google.com/assets/colab-badge.svg\" alt=\"Open In Colab\"/></a>"
      ]
    },
    {
      "cell_type": "markdown",
      "metadata": {
        "id": "fYiVupACl1yP"
      },
      "source": [
        "# **Introduction to Deep Learning**: A Subset of ML Involving Neural Networks\n",
        "\n",
        "*By Andrew Chang*"
      ]
    },
    {
      "cell_type": "code",
      "execution_count": null,
      "metadata": {
        "id": "Qmc1uh1Qpcew"
      },
      "outputs": [],
      "source": [
        "import numpy as np\n",
        "import pandas as pd\n",
        "import matplotlib.pyplot as plt\n",
        "\n",
        "import torch\n",
        "from torch import optim\n",
        "from torch.autograd import Variable\n",
        "from torch.utils.data import DataLoader\n",
        "import torch.nn as nn\n",
        "from torchvision import datasets\n",
        "from torchvision.transforms import ToTensor\n",
        "\n",
        "from sklearn.model_selection import train_test_split\n",
        "\n",
        "device = torch.device('cuda' if torch.cuda.is_available() else 'cpu')"
      ]
    },
    {
      "cell_type": "markdown",
      "metadata": {
        "id": "dHsulqgwp0PJ"
      },
      "source": [
        "# **1. Gradient Descent**"
      ]
    },
    {
      "cell_type": "markdown",
      "metadata": {
        "id": "8ZTB7eY87xfO"
      },
      "source": [
        "## 1.1. Theory\n",
        "\n",
        "ML models involve minimizing a loss function.\n",
        "\n",
        "Below is a manifold of the standard least squares loss function.\n",
        "\n",
        "<img src=\"https://cdn.analyticsvidhya.com/wp-content/uploads/2021/03/Screenshot-from-2021-03-03-17-32-54.png\" width=\"400px\" />\n",
        "\n",
        "Let's say during the current iteration of your training, you are at point A. Eventually you want to get to point B. How?\n",
        "\n",
        "Recall from calculus: Taking the gradient (derivative) of a function gives you the rate of change and its direction at each point.\n",
        "\n",
        "Idea: Follow the direction of the gradient to the minimum.\n",
        "\n",
        "<img src=\"https://easyai.tech/wp-content/uploads/2019/01/tiduxiajiang-1.png\" width=\"400px\" />"
      ]
    },
    {
      "cell_type": "markdown",
      "metadata": {
        "id": "m5-y51xv713s"
      },
      "source": [
        "## 1.2. Math\n",
        "\n",
        "All linear ML models involve training for the optimal weight vector $\\mathbf{w} = [w_1, w_2, ..., w_d]$, the weights associated with each input feature $x_1, x_2, ..., x_d$.\n",
        "\n",
        "Gradient descent update step: $\\mathbf{w}_{t+1} ← \\mathbf{w}_t - α∇L(\\mathbf{w}_t)$.\n",
        "\n",
        "* $\\mathbf{w}_t$: Current weight vector at time step $t$\n",
        "* $\\alpha$: Learning rate / step size (Controls how big should the step size be, more on this later.)\n",
        "* $∇L(\\mathbf{w}_t)$: Gradient of your loss\n",
        "* $\\mathbf{w}_{t+1}$: Next weight vector\n",
        "\n",
        "<img src=\"https://sebastianraschka.com/images/faq/gradient-optimization/ball.png\" width=\"400px\" />\n",
        "<img src=\"https://upload.wikimedia.org/wikipedia/commons/thumb/f/ff/Gradient_descent.svg/350px-Gradient_descent.svg.png\" width=\"200px\" />\n",
        "\n",
        "Question: In the update rule, why do we subtract instead of add?"
      ]
    },
    {
      "cell_type": "markdown",
      "metadata": {
        "id": "aR9wEnzZkhsB"
      },
      "source": [
        "## 1.3. Coding Exercise"
      ]
    },
    {
      "cell_type": "code",
      "execution_count": null,
      "metadata": {
        "id": "NmNHLgD7PnCO",
        "colab": {
          "base_uri": "https://localhost:8080/",
          "height": 449
        },
        "outputId": "192a9e82-b89e-4e45-8dc9-45752caca5a2"
      },
      "outputs": [
        {
          "output_type": "display_data",
          "data": {
            "text/plain": [
              "<Figure size 640x480 with 1 Axes>"
            ],
            "image/png": "[encoded data removed]"
          },
          "metadata": {}
        }
      ],
      "source": [
        "## EXERCISE\n",
        "\n",
        "# 1. Read linear_regression_data.csv with pandas and store it in df\n",
        "df = pd.read_csv(\"../linear_regression_data.csv\")\n",
        "n = len(df)\n",
        "x = df['X'].to_numpy()\n",
        "y = df['Y'].to_numpy()\n",
        "\n",
        "# 2. Split the dataset into x_train, x_test, y_train, y_test. Use 80:20.\n",
        "x_train, x_test, y_train, y_test = train_test_split(x, y, test_size = 0.20, random_state = 42)\n",
        "\n",
        "# 3. Scatter plot x_train and y_train. Label x axis as 'x' and y axis as 'y'\n",
        "plt.scatter(x_train, y_train)\n",
        "plt.xlabel(\"x\")\n",
        "plt.ylabel(\"y\")\n",
        "plt.show()"
      ]
    },
    {
      "cell_type": "markdown",
      "metadata": {
        "id": "ndTpM3qfYg6a"
      },
      "source": [
        "We want to find the line of best fit $Y = mX + b$ where $m$ is your slope and $b$ is your bias, which are the parameters you want to learn. Imagine $m$ as your weight to $x$.\n",
        "\n",
        "We will use Mean Squared Loss (MSE): $\\frac{1}{n}\\sum_{i=1}^{n}(y_i - \\bar{y_i})^2 = \\frac{1}{n}\\sum_{i=1}^{n}(y_i - (mx_i + b))^2$ where:\n",
        "* $y_i$ is actual value\n",
        "* $\\bar{y_i}$ is predicted value"
      ]
    },
    {
      "cell_type": "code",
      "execution_count": null,
      "metadata": {
        "id": "-CsgxLd6Z-Yw",
        "colab": {
          "base_uri": "https://localhost:8080/",
          "height": 472
        },
        "outputId": "4741a4a3-2d40-4487-b6df-f9e3f89e3841"
      },
      "outputs": [
        {
          "output_type": "display_data",
          "data": {
            "text/plain": [
              "<Figure size 640x480 with 1 Axes>"
            ],
            "image/png": "[encoded data removed]"
          },
          "metadata": {}
        }
      ],
      "source": [
        "## EXERCISE\n",
        "\n",
        "def gradient_descent(alpha=0.0001):\n",
        "  m = 0\n",
        "  b = 0\n",
        "  epochs = 20 # num of iterations to perform gradient descent\n",
        "  losses = []\n",
        "  ms = []\n",
        "\n",
        "  for _ in range(epochs):\n",
        "    # 1. generate y_pred from x_train. Remember Y = mX + b\n",
        "    y_pred = m * x_train + b\n",
        "\n",
        "    # 2. calculate loss between y_train and y_pred, store in loss\n",
        "    loss = np.mean(np.square(y_train - y_pred))\n",
        "\n",
        "    losses.append(loss)\n",
        "    ms.append(m)\n",
        "\n",
        "    # 3. calculate gradient of loss in respect to m, store in grad_m\n",
        "    grad_m = (-2/n) * sum(x_train * (y_train - y_pred))\n",
        "\n",
        "    # 4. calculate gradient of loss in respect to b, store in grad_b\n",
        "    grad_b = (-2/n) * sum(y_train - y_pred)\n",
        "\n",
        "    m = m - alpha * grad_m\n",
        "    b = b - alpha * grad_b\n",
        "\n",
        "  return m, b, losses, ms\n",
        "\n",
        "m, b, losses, ms = gradient_descent()\n",
        "\n",
        "train_preds = m * x_train + b\n",
        "plt.scatter(x_train, y_train)\n",
        "plt.title('Training')\n",
        "plt.xlabel('x')\n",
        "plt.ylabel('y')\n",
        "plt.plot([min(x_train), max(x_train)], [min(train_preds), max(train_preds)], color='red')\n",
        "plt.show()"
      ]
    },
    {
      "cell_type": "markdown",
      "metadata": {
        "id": "af6b1BDjpoQW"
      },
      "source": [
        "Let's run inference on our test set."
      ]
    },
    {
      "cell_type": "code",
      "execution_count": null,
      "metadata": {
        "id": "kZ9UOVlpenAE",
        "colab": {
          "base_uri": "https://localhost:8080/",
          "height": 489
        },
        "outputId": "50e2bff0-3872-4c8d-cf8b-35faebd26f18"
      },
      "outputs": [
        {
          "output_type": "display_data",
          "data": {
            "text/plain": [
              "<Figure size 640x480 with 1 Axes>"
            ],
            "image/png": "[encoded data removed]"
          },
          "metadata": {}
        },
        {
          "output_type": "stream",
          "name": "stdout",
          "text": [
            "Test loss: 123.80435172073628\n"
          ]
        }
      ],
      "source": [
        "# Inference\n",
        "test_preds = m * x_test + b\n",
        "plt.scatter(x_test, y_test)\n",
        "plt.title('Testing')\n",
        "plt.xlabel('x')\n",
        "plt.ylabel('y')\n",
        "plt.plot([min(x_train), max(x_train)], [min(train_preds), max(train_preds)], color='red')\n",
        "plt.show()\n",
        "\n",
        "# MSE Testing Loss\n",
        "# 1. Calculate test loss\n",
        "loss = np.mean(np.square(y_test - test_preds))\n",
        "print('Test loss:', loss)"
      ]
    },
    {
      "cell_type": "markdown",
      "metadata": {
        "id": "0kzrStSvp5bs"
      },
      "source": [
        "Let's visualize the gradient descent steps."
      ]
    },
    {
      "cell_type": "code",
      "execution_count": null,
      "metadata": {
        "id": "AhNobcgdoLoP",
        "colab": {
          "base_uri": "https://localhost:8080/",
          "height": 472
        },
        "outputId": "77acbead-cb1f-4bfb-e2de-ac6cece21b12"
      },
      "outputs": [
        {
          "output_type": "display_data",
          "data": {
            "text/plain": [
              "<Figure size 640x480 with 1 Axes>"
            ],
            "image/png": "[encoded data removed]"
          },
          "metadata": {}
        }
      ],
      "source": [
        "def visualize_gradient(alpha=0.0001):\n",
        "  x = []\n",
        "  y = []\n",
        "\n",
        "  for m in np.linspace(-0.5, 2, 50):\n",
        "    y_pred = m * x_train + b\n",
        "    x.append(m)\n",
        "    y.append(np.mean(np.square(y_train - y_pred)))\n",
        "\n",
        "  # x = np.arange(1, 21)\n",
        "  _, _, losses, ms = gradient_descent(alpha=alpha)\n",
        "  plt.plot(x, y)\n",
        "  plt.plot(ms, losses)\n",
        "  plt.title('Gradient Descent Steps')\n",
        "  plt.xlabel('m')\n",
        "  plt.ylabel('Loss')\n",
        "  plt.show()\n",
        "\n",
        "visualize_gradient()"
      ]
    },
    {
      "cell_type": "markdown",
      "metadata": {
        "id": "-QpHRTXhjEvo"
      },
      "source": [
        "As aforementioned, learning rate $\\alpha$ is one of the hyperparameters that we need to tune that determines your step size. What happens when we change $\\alpha$?"
      ]
    },
    {
      "cell_type": "code",
      "execution_count": null,
      "metadata": {
        "id": "9q5NJQ4xqUso"
      },
      "outputs": [],
      "source": [
        "visualize_gradient(alpha=0.00001) # really small step size\n",
        "visualize_gradient(alpha=0.001) # larger step size"
      ]
    },
    {
      "cell_type": "markdown",
      "metadata": {
        "id": "iUftQksyjRPw"
      },
      "source": [
        "We see that\n",
        "* When too large, gradient overshoots and explodes\n",
        "* When too small, convergence too slow\n",
        "\n",
        "Other problems with gradient descent:\n",
        "* May only find local minima, not global minima\n",
        "* Can be slow to converge\n",
        "* Can be non-deterministic based on start point\n",
        "\n",
        "<img src=\"https://srdas.github.io/DLBook/DL_images/TNN2.png\" width=\"400px\" />\n",
        "<img src=\"https://www.researchgate.net/publication/338621083/figure/fig4/AS:847811214069760@1579145353037/Gradient-Descent-Stuck-at-Local-Minima-18.ppm\" width=\"300px\" />\n",
        "\n",
        "Other optimizers to deal with these problems:\n",
        "* Stochastic Gradient Descent (SGD)\n",
        "* Adaptive Gradient Descent (Adagrad)\n",
        "* ADAM\n",
        "\n",
        "In our example, we only dealt with gradient descent in its simplest form: MSE loss function and dataset with only one feature. More complex loss functions with lots of features might be harder to visualize, but gradient descent extends to higher dimensions the same way. You may want to learn vector and matrix calculus properly, but not necessarily needed."
      ]
    },
    {
      "cell_type": "markdown",
      "metadata": {
        "id": "vEb8N29xI-dJ"
      },
      "source": [
        "# **2. Neural Networks**\n",
        "\n",
        "<img src=\"https://www.unite.ai/wp-content/uploads/2023/05/Featured-Blog-Image-Liquid-Neural-Networks-Definition-Applications-and-Challenges.jpg\" width=\"500px\" />"
      ]
    },
    {
      "cell_type": "markdown",
      "metadata": {
        "id": "5yAj40mblhrw"
      },
      "source": [
        "## 2.1. Linear Classifiers Review\n",
        "\n",
        "The primary idea behind linear classification is to define a decision boundary, or more formally a hyperplane, in the feature space that separates the two classes. This decision boundary is a linear function of the input features, and it can be represented as:\n",
        "\n",
        "$y = w_0 + w_1x_1 + w_2x_2 + ... + w_dx_d$\n",
        "\n",
        "Where:\n",
        "* $y$ is the output or prediction\n",
        "* $w_0$ is the bias term or intercept\n",
        "* $w_1, w_2, ..., w_d$ are the weights associated with each input feature $x_1, x_2, ..., x_d$\n",
        "\n",
        "You can collect all the weights as vector $\\mathbf{w} = [w_1 \\ ... \\ w_d]$ and all the input features as $\\mathbf{x} = [x_1 \\ ... \\ x_d]$ and represent the classifier as $\\mathbf{w} \\cdot \\mathbf{x} + w_0$. You can optionally collect the bias term into the weight vector as well and have $\\mathbf{w} = [w_0 \\ w_1 \\ ... \\ w_d]$ and $\\mathbf{x} = [1 \\ x_1 \\ ... \\ x_d]$."
      ]
    },
    {
      "cell_type": "markdown",
      "metadata": {
        "id": "obH5sIFGHbuJ"
      },
      "source": [
        "## 2.2. Perceptrons\n",
        "(Invented here at Cornell!)\n",
        "\n",
        "<img src=\"https://www.cs.cornell.edu/courses/cs4780/2023sp/lectures/images/perceptron/perceptron_img1.png\" width=\"400px\" />\n",
        "\n",
        "Above is a binary linear classifier with two features called the **perceptron**. In the binary linear classification setting, your typical label space is $C = \\{-1, +1\\}$.\n",
        "\n",
        "* In training, if the sign of your prediction matches your label, it is correctly classified.\n",
        "* In testing, if $y > 0$, test point classified as $+1$, else classified as $-1$.\n",
        "\n",
        "Why? Dot products!\n",
        "\n",
        "For today, you do not need to know how perceptrons are trained, but just understand them as a linear classifier on a hyperplane. Can describe briefly if you would like to though!\n",
        "\n",
        "Perceptrons can be reimagined as an artificial neuron:\n",
        "\n",
        "<img src=\"https://miro.medium.com/v2/resize:fit:645/0*LJBO8UbtzK_SKMog\" width=\"400px\" />\n",
        "\n",
        "The input features and their associated weights are multiplied, and summed up to give your prediction."
      ]
    },
    {
      "cell_type": "markdown",
      "metadata": {
        "id": "_vprNqMhKdTx"
      },
      "source": [
        "## 2.3. Multilayer Perceptrons (MLP)"
      ]
    },
    {
      "cell_type": "markdown",
      "metadata": {
        "id": "mdu2pEg2Qsdw"
      },
      "source": [
        "Chain the perceptrons together and you get a multilayer perceptron (MLP):\n",
        "\n",
        "<img src=\"https://media.geeksforgeeks.org/wp-content/uploads/nodeNeural.jpg\" />\n",
        "\n",
        "Components of MLPs:\n",
        "* Input Layer: Stores your input data\n",
        "* **Hidden Layers**: May contain one or more hidden layers. Captures complex patterns and representations in the data\n",
        "* Edges represent weights\n",
        "* Output Layer: Outputs. Number of neurons may depend on task\n",
        "* **Activation Functions**: Introduces non-linearities that enable NNs to model complex relationships in the data. Common types are sigmoid, ReLU, tanh, and softmax.\n",
        "\n",
        "<img src=\"https://assets-global.website-files.com/614c82ed388d53640613982e/64a6b6518fddd62aa2605e17_how%20do%20activation%20functions%20work.webp\" width=\"300px\" />\n",
        "\n",
        "<img src=\"https://camo.githubusercontent.com/4f10f5ca45c12507997e69a9c147cf7afd76382247ea50e92cbbfad13e4d1a7a/687474703a2f2f6164696c6d6f756a616869642e636f6d2f696d616765732f61637469766174696f6e2e706e67\" width=\"400px\" />\n",
        "\n",
        "* Sigmoid: maps values to $[0, 1]$\n",
        "* tanh: maps values to $[-1, 1]$\n",
        "* ReLU: most common now\n",
        "\n",
        "Softmax activation function:\n",
        "\n",
        "<img src=\"https://miro.medium.com/v2/resize:fit:1400/1*ReYpdIZ3ZSAPb2W8cJpkBg.jpeg\" width=\"400px\" />"
      ]
    },
    {
      "cell_type": "markdown",
      "metadata": {
        "id": "eozuZn-PJB-C"
      },
      "source": [
        "## 2.4. Back to Neural Networks\n",
        "\n",
        "You add more layers and you get typical artificial neural networks. You add a lot of them and it becomes **deep**. The term deep learning comes from the idea that you just train deep into many layers of a neural network.\n",
        "\n",
        "How do you typically work with neural networks?\n",
        "\n",
        "1. Forward pass: make prediction and calculate loss\n",
        "2. Compute error\n",
        "3. Backward pass (backpropagation): calculate gradient of loss function and update weights accordingly (autograd)\n",
        "\n",
        "<img src=\"https://editor.analyticsvidhya.com/uploads/18870backprop2.png\" width=\"500px\" />\n",
        "\n",
        "Question to wrap up: Why do neural networks work?"
      ]
    },
    {
      "cell_type": "markdown",
      "metadata": {
        "id": "2cfiauUYHSck"
      },
      "source": [
        "# **3. Convolutional Neural Networks (CNNs)**\n",
        "\n",
        "<img src=\"https://www.mdpi.com/sensors/sensors-19-04933/article_deploy/html/images/sensors-19-04933-g001.png\" width=\"500px\" />\n",
        "\n",
        "A special class of ANNs designed for processing structured grid data, such as images and videos. Proven to be highly effective in various computer vision tasks, including image classification, object detection, facial recognition, and more. Inspired by the human visual system and designed to automatically and adaptively learn hierarchical features from data\n"
      ]
    },
    {
      "cell_type": "code",
      "execution_count": null,
      "metadata": {
        "id": "-zrVap2EtoxA"
      },
      "outputs": [],
      "source": [
        "train_data = datasets.MNIST(\n",
        "    root = 'data',\n",
        "    train = True,\n",
        "    transform = ToTensor(),\n",
        "    download = True,\n",
        ")\n",
        "\n",
        "test_data = datasets.MNIST(\n",
        "    root = 'data',\n",
        "    train = False,\n",
        "    transform = ToTensor()\n",
        ")\n",
        "\n",
        "print(train_data)\n",
        "print(test_data)\n",
        "print(train_data.data.size())\n",
        "print(train_data.targets.size())\n",
        "\n",
        "plt.imshow(train_data.data[0], cmap='gray')\n",
        "plt.title('%i' % train_data.targets[0])\n",
        "plt.show()\n",
        "\n",
        "loaders = {\n",
        "  'train' : torch.utils.data.DataLoader(train_data,\n",
        "                                        batch_size=100,\n",
        "                                        shuffle=True,\n",
        "                                        num_workers=1),\n",
        "\n",
        "  'test'  : torch.utils.data.DataLoader(test_data,\n",
        "                                        batch_size=100,\n",
        "                                        shuffle=True,\n",
        "                                        num_workers=1),\n",
        "}"
      ]
    },
    {
      "cell_type": "markdown",
      "metadata": {
        "id": "9ykypC_hWO1z"
      },
      "source": [
        "## 3.1. Convolution Operation\n",
        "\n",
        "<img src=\"https://tikz.net/janosh/conv2d.png\" width=\"500px\" />\n",
        "<img src=\"https://miro.medium.com/v2/resize:fit:1206/1*ZPXWZDIHFbTxs-6KVPS5gg.png\" width=\"500px\" />\n",
        "\n",
        "Think of convolution as a pattern detector."
      ]
    },
    {
      "cell_type": "markdown",
      "metadata": {
        "id": "rBjSv5qwWdcc"
      },
      "source": [
        "## 3.2. Pooling\n",
        "\n",
        "<img src=\"https://www.researchgate.net/publication/354036236/figure/fig2/AS:1132444669493302@1647007257649/Operations-carried-out-by-the-convolution-and-pooling-layers-A-max-pooling-layer-picks.jpg\" width=\"500px\" />\n",
        "\n",
        "Why pooling?\n",
        "* **Dimensionality Reduction**: Reduces the spatial dimensions of the feature maps generated by the convolutional layers. By downsampling the feature maps, pooling reduces the number of parameters in the network, which can help reduce overfitting and computational complexity.\n",
        "* **Translation Invariance**: Small spatial variations in the input data have less impact on the pooled output. This makes the network more robust to small shifts and distortions in the input, which is particularly important in computer vision tasks where objects can appear in different positions in an image.\n",
        "* **Feature Selection**: Identify the most important features or patterns in the feature maps. By aggregating information from a local neighborhood (e.g., max pooling or average pooling), the pooled output highlights the presence of relevant features, while less informative details are discarded.\n",
        "* **Reduction of Overfitting**: Pooling can act as a form of regularization by reducing the spatial resolution of the feature maps. Smaller feature maps mean fewer parameters, which, in turn, can help prevent overfitting by making the model more generalizable to different input variations.\n",
        "* **Computation Efficiency**: Smaller feature maps obtained through pooling require fewer computations during both training and inference, leading to faster and more efficient processing."
      ]
    },
    {
      "cell_type": "code",
      "execution_count": null,
      "metadata": {
        "id": "6VHICV8_uX1o"
      },
      "outputs": [],
      "source": [
        "class CNN(nn.Module):\n",
        "  def __init__(self):\n",
        "    super(CNN, self).__init__()\n",
        "    self.conv1 = nn.Sequential(\n",
        "        nn.Conv2d(\n",
        "            in_channels=1,\n",
        "            out_channels=16,\n",
        "            kernel_size=5,\n",
        "            stride=1,\n",
        "            padding=2,\n",
        "        ),\n",
        "        nn.ReLU(),\n",
        "        nn.MaxPool2d(kernel_size=2),\n",
        "    )\n",
        "    self.conv2 = nn.Sequential(\n",
        "        nn.Conv2d(16, 32, 5, 1, 2),\n",
        "        nn.ReLU(),\n",
        "        nn.MaxPool2d(2),\n",
        "    )\n",
        "    # fully connected layer, output 10 classes\n",
        "    self.out = nn.Linear(32 * 7 * 7, 10)\n",
        "\n",
        "  def forward(self, x):\n",
        "    x = self.conv1(x)\n",
        "    x = self.conv2(x)\n",
        "    # flatten the output of conv2 to (batch_size, 32 * 7 * 7)\n",
        "    x = x.view(x.size(0), -1)\n",
        "    output = self.out(x)\n",
        "    return output, x    # return x for visualization"
      ]
    },
    {
      "cell_type": "code",
      "execution_count": null,
      "metadata": {
        "id": "DqREgAExubEy"
      },
      "outputs": [],
      "source": [
        "cnn = CNN()\n",
        "loss_func = nn.CrossEntropyLoss()\n",
        "optimizer = optim.Adam(cnn.parameters(), lr=0.01)\n",
        "num_epochs = 10"
      ]
    },
    {
      "cell_type": "code",
      "execution_count": null,
      "metadata": {
        "id": "1IshNrcJufNZ"
      },
      "outputs": [],
      "source": [
        "def train(num_epochs, cnn, loaders):\n",
        "  cnn.train()\n",
        "\n",
        "  # Train the model\n",
        "  total_step = len(loaders['train'])\n",
        "\n",
        "  for epoch in range(num_epochs):\n",
        "    for i, (images, labels) in enumerate(loaders['train']):\n",
        "      # gives batch data, normalize x when iterate train_loader\n",
        "      b_x = Variable(images) # batch x\n",
        "      b_y = Variable(labels) # batch y\n",
        "      output = cnn(b_x)[0]\n",
        "      loss = loss_func(output, b_y)\n",
        "\n",
        "      # clear gradients for this training step\n",
        "      optimizer.zero_grad()\n",
        "\n",
        "      loss.backward() # backpropagation, compute gradients\n",
        "      optimizer.step() # apply gradients\n",
        "\n",
        "      if (i+1) % 100 == 0:\n",
        "        print ('Epoch [{}/{}], Step [{}/{}], Loss: {:.4f}'\n",
        "                  .format(epoch + 1, num_epochs, i + 1, total_step, loss.item()))\n",
        "\n",
        "train(num_epochs, cnn, loaders)"
      ]
    },
    {
      "cell_type": "code",
      "execution_count": null,
      "metadata": {
        "id": "Hp6NXtXYG-BD"
      },
      "outputs": [],
      "source": [
        "def test():\n",
        "  # Test the model\n",
        "  cnn.eval()\n",
        "  with torch.no_grad():\n",
        "    correct = 0\n",
        "    total = 0\n",
        "    for images, labels in loaders['test']:\n",
        "      test_output, last_layer = cnn(images)\n",
        "      pred_y = torch.max(test_output, 1)[1].data.squeeze()\n",
        "      accuracy = (pred_y == labels).sum().item() / float(labels.size(0))\n",
        "  print('Test Accuracy of the model on the 10000 test images: %.2f' % accuracy)\n",
        "\n",
        "test()"
      ]
    },
    {
      "cell_type": "code",
      "execution_count": null,
      "metadata": {
        "id": "S1MPLBjWHK-4"
      },
      "outputs": [],
      "source": [
        "sample = next(iter(loaders['test']))\n",
        "imgs, lbls = sample\n",
        "actual_number = lbls[:10].numpy()\n",
        "actual_number"
      ]
    },
    {
      "cell_type": "code",
      "execution_count": null,
      "metadata": {
        "id": "HUqspZpxHPFK"
      },
      "outputs": [],
      "source": [
        "test_output, last_layer = cnn(imgs[:10])\n",
        "pred_y = torch.max(test_output, 1)[1].data.numpy().squeeze()\n",
        "print(f'Prediction number: {pred_y}')\n",
        "print(f'Actual number: {actual_number}')"
      ]
    }
  ],
  "metadata": {
    "colab": {
      "provenance": [],
      "include_colab_link": true
    },
    "kernelspec": {
      "display_name": "Python 3",
      "name": "python3"
    },
    "language_info": {
      "name": "python"
    }
  },
  "nbformat": 4,
  "nbformat_minor": 0
}